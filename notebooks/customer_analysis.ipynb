{
 "cells": [
  {
   "cell_type": "code",
   "execution_count": null,
   "id": "5c0ff8e4",
   "metadata": {},
   "outputs": [],
   "source": [
    "#imports \n",
    "import pandas as pd\n",
    "import numpy as np\n",
    "import matplotlib.pyplot as plt\n",
    "import seaborn as sns\n",
    "\n",
    "# Optional settings\n",
    "sns.set(style='whitegrid')\n",
    "pd.set_option('display.max_columns', None)\n"
   ]
  },
  {
   "cell_type": "code",
   "execution_count": null,
   "id": "de730ffe",
   "metadata": {},
   "outputs": [],
   "source": [
    "#loading the dataset\n",
    "df = pd.read_excel(\"../data/online_retail.xlsx\")\n",
    "df.head()\n"
   ]
  },
  {
   "cell_type": "code",
   "execution_count": null,
   "id": "6c0b1fd3",
   "metadata": {},
   "outputs": [],
   "source": [
    "#shape and columns\n",
    "df.shape\n",
    "df.columns\n"
   ]
  },
  {
   "cell_type": "code",
   "execution_count": null,
   "id": "7a7fe790",
   "metadata": {},
   "outputs": [],
   "source": [
    "#info and description\n",
    "df.info()\n",
    "df.describe()"
   ]
  },
  {
   "cell_type": "code",
   "execution_count": null,
   "id": "c6211e45",
   "metadata": {},
   "outputs": [],
   "source": [
    "#drop missing customer IDs\n",
    "df = df.dropna(subset=['CustomerID'])\n",
    "print(\"After dropping missing CustomerIDs:\", df.shape)"
   ]
  },
  {
   "cell_type": "code",
   "execution_count": null,
   "id": "5df4395d",
   "metadata": {},
   "outputs": [],
   "source": [
    "#remove canceled orders\n",
    "df = df[~df['InvoiceNo'].astype(str).str.startswith('C')]\n",
    "print(\"After removing canceled transactions:\", df.shape)\n"
   ]
  },
  {
   "cell_type": "code",
   "execution_count": null,
   "id": "b372e4c0",
   "metadata": {},
   "outputs": [],
   "source": [
    "#remove negative quantities\n",
    "df = df[df['Quantity'] > 0]\n",
    "print(\"After removing negative quantities:\", df.shape)"
   ]
  },
  {
   "cell_type": "code",
   "execution_count": null,
   "id": "f821b833",
   "metadata": {},
   "outputs": [],
   "source": [
    "#remove invalid unit prices\n",
    "df = df[df['UnitPrice'] > 0]\n",
    "print(\"After removing invalid unit prices:\", df.shape)"
   ]
  },
  {
   "cell_type": "code",
   "execution_count": null,
   "id": "e86b4cb3",
   "metadata": {},
   "outputs": [],
   "source": [
    "#drop duplicate rows\n",
    "df = df.drop_duplicates()\n",
    "print(\"After dropping duplicates:\", df.shape)"
   ]
  },
  {
   "cell_type": "code",
   "execution_count": null,
   "id": "a38d0087",
   "metadata": {},
   "outputs": [],
   "source": [
    "#feature engineering - total price\n",
    "df['TotalPrice'] = df['Quantity'] * df['UnitPrice']\n",
    "df[['Quantity', 'UnitPrice', 'TotalPrice']].head()"
   ]
  },
  {
   "cell_type": "code",
   "execution_count": null,
   "id": "1795c1aa",
   "metadata": {},
   "outputs": [],
   "source": [
    "#feature engineering - invoice month \n",
    "df['InvoiceDate'] = pd.to_datetime(df['InvoiceDate']) #incase data not paresed\n",
    "df['InvoiceMonth'] = df['InvoiceDate'].dt.to_period('M')\n",
    "df[['InvoiceDate', 'InvoiceMonth']].head()"
   ]
  },
  {
   "cell_type": "code",
   "execution_count": null,
   "id": "3a2168a3",
   "metadata": {},
   "outputs": [],
   "source": [
    "#convert customer ID to string\n",
    "df['CustomerID'] = df['CustomerID'].astype(str)"
   ]
  },
  {
   "cell_type": "code",
   "execution_count": null,
   "id": "da45e89e",
   "metadata": {},
   "outputs": [],
   "source": [
    "#save the cleaned dataset\n",
    "print(\"Saving cleaned dataset...\")\n",
    "df.to_csv('../data/online_retail_cleaned.csv', index=False)\n"
   ]
  },
  {
   "cell_type": "code",
   "execution_count": null,
   "id": "7742442b",
   "metadata": {},
   "outputs": [],
   "source": [
    "#final check \n",
    "print(\"✅ Cleaned dataset shape:\", df.shape)\n",
    "print(\"🧍 Unique customers:\", df['CustomerID'].nunique())\n",
    "print(\"📅 Date range:\", df['InvoiceDate'].min(), \"to\", df['InvoiceDate'].max())\n",
    "# --- IGNORE ---"
   ]
  },
  {
   "cell_type": "code",
   "execution_count": null,
   "id": "e1f582ac",
   "metadata": {},
   "outputs": [],
   "source": [
    "#revenue by month\n",
    "monthly_revenue = df.groupby('InvoiceMonth')['TotalPrice'].sum().reset_index()\n",
    "#convert period to string\n",
    "monthly_revenue['InvoiceMonth'] = monthly_revenue['InvoiceMonth'].astype(str)\n",
    "\n",
    "plt.figure(figsize=(12, 6))\n",
    "sns.lineplot(x='InvoiceMonth', y='TotalPrice', data=monthly_revenue, marker='o')\n",
    "plt.title('Monthly Revenue')\n",
    "plt.xlabel('Invoice Month')\n",
    "plt.ylabel('Total Revenue')\n",
    "plt.xticks(rotation=45)\n",
    "plt.tight_layout()\n",
    "plt.show()"
   ]
  },
  {
   "cell_type": "code",
   "execution_count": null,
   "id": "9c913c19",
   "metadata": {},
   "outputs": [],
   "source": [
    "#top products by revenue\n",
    "top_products = df.groupby('Description')['TotalPrice'].sum().reset_index().sort_values(by='TotalPrice', ascending=False).head(10)\n",
    "plt.figure(figsize=(12, 6))\n",
    "sns.barplot(x='TotalPrice', y='Description', data=top_products, palette='viridis')\n",
    "plt.title('Top 10 Products by Revenue')\n",
    "plt.xlabel('Total Revenue')\n",
    "plt.ylabel('Product Description')\n",
    "plt.tight_layout()\n",
    "plt.show()"
   ]
  },
  {
   "cell_type": "code",
   "execution_count": null,
   "id": "6002c511",
   "metadata": {},
   "outputs": [],
   "source": [
    "#top 10 products by quantity sold\n",
    "top_products_quantity = df.groupby('Description')['Quantity'].sum().reset_index().sort_values(by='Quantity', ascending=False).head(10)\n",
    "plt.figure(figsize=(12, 6))\n",
    "sns.barplot(x='Quantity', y='Description', data=top_products_quantity, palette='magma')\n",
    "plt.title('Top 10 Products by Quantity Sold')\n",
    "plt.xlabel('Total Quantity Sold')\n",
    "plt.ylabel('Product Description')\n",
    "plt.tight_layout()\n",
    "plt.show()"
   ]
  },
  {
   "cell_type": "code",
   "execution_count": null,
   "id": "c11d193d",
   "metadata": {},
   "outputs": [],
   "source": [
    "#revenue by country\n",
    "country_revenue = df.groupby('Country')['TotalPrice'].sum().reset_index().sort_values(by='TotalPrice', ascending=False).head(10)\n",
    "plt.figure(figsize=(12, 6))\n",
    "sns.barplot(x='TotalPrice', y='Country', data=country_revenue, palette='coolwarm')\n",
    "plt.title('Top 10 Countries by Revenue')\n",
    "plt.xlabel('Total Revenue')\n",
    "plt.ylabel('Country')\n",
    "plt.tight_layout()\n",
    "plt.show()"
   ]
  },
  {
   "cell_type": "code",
   "execution_count": null,
   "id": "df04e990",
   "metadata": {},
   "outputs": [],
   "source": [
    "# Revenue per customer\n",
    "customer_revenue = df.groupby('CustomerID')['TotalPrice'].sum().sort_values(ascending=False)\n",
    "\n",
    "# Quartiles (Q1, Median, Q3)\n",
    "quartiles = customer_revenue.quantile([0.25, 0.5, 0.75])\n",
    "print(\"Customer Revenue Quartiles:\\n\", quartiles)\n",
    "\n",
    "# Calculate 80th percentile (top 20% cutoff)\n",
    "top_20_cutoff = customer_revenue.quantile(0.80)\n",
    "\n",
    "# Total revenue from top 20% customers\n",
    "top_20_revenue = customer_revenue[customer_revenue >= top_20_cutoff].sum()\n",
    "total_revenue = customer_revenue.sum()\n",
    "\n",
    "# Print result\n",
    "print(\"Top 20% of customers contributed {:.2f}% of revenue\".format(100 * top_20_revenue / total_revenue))\n"
   ]
  },
  {
   "cell_type": "code",
   "execution_count": 25,
   "id": "936bfd87",
   "metadata": {},
   "outputs": [
    {
     "name": "stdout",
     "output_type": "stream",
     "text": [
      "Snapshot date: 2011-12-10 12:50:00\n",
      "  CustomerID  Recency  Frequency  Monetary\n",
      "0    12346.0      326          1  77183.60\n",
      "1    12347.0        2        182   4310.00\n",
      "2    12348.0       75         31   1797.24\n",
      "3    12349.0       19         73   1757.55\n",
      "4    12350.0      310         17    334.40\n",
      "           Recency    Frequency       Monetary\n",
      "count  4338.000000  4338.000000    4338.000000\n",
      "mean     92.536422    90.523744    2048.688081\n",
      "std     100.014169   225.506968    8985.230220\n",
      "min       1.000000     1.000000       3.750000\n",
      "25%      18.000000    17.000000     306.482500\n",
      "50%      51.000000    41.000000     668.570000\n",
      "75%     142.000000    98.000000    1660.597500\n",
      "max     374.000000  7676.000000  280206.020000\n"
     ]
    }
   ],
   "source": [
    "''' \n",
    "We are creating a rfm snapshot date to analyze \n",
    "customer behavior up to a specific point in time.\n",
    "\n",
    "recency = the time since the last purchase (lower is better)\n",
    "frequency = the number of purchases (higher is better)\n",
    "monetary = the total revenue (higher is better)\n",
    "\n",
    "'''\n",
    "# define snapshot date (day after the last invoice date)\n",
    "snapshot_date = df['InvoiceDate'].max() + pd.Timedelta(days=1)\n",
    "print(\"Snapshot date:\", snapshot_date)\n",
    "\n",
    "# calculate RFM metrics\n",
    "rfm = df.groupby('CustomerID').agg({\n",
    "    'InvoiceDate': lambda x: (snapshot_date - x.max()).days,  # recency\n",
    "    'InvoiceNo': 'count',  # frequency\n",
    "    'TotalPrice': 'sum'  # monetary\n",
    "})\n",
    "\n",
    "# rename columns\n",
    "rfm_df = rfm.rename(columns={\n",
    "    'InvoiceDate': 'Recency',\n",
    "    'InvoiceNo': 'Frequency',\n",
    "    'TotalPrice': 'Monetary'\n",
    "})\n",
    "\n",
    "# reset index\n",
    "rfm_df = rfm_df.reset_index()\n",
    "\n",
    "#quick look\n",
    "print(rfm_df.head())\n",
    "print(rfm_df.describe())\n",
    "\n"
   ]
  }
 ],
 "metadata": {
  "kernelspec": {
   "display_name": "Python 3",
   "language": "python",
   "name": "python3"
  },
  "language_info": {
   "codemirror_mode": {
    "name": "ipython",
    "version": 3
   },
   "file_extension": ".py",
   "mimetype": "text/x-python",
   "name": "python",
   "nbconvert_exporter": "python",
   "pygments_lexer": "ipython3",
   "version": "3.9.6"
  }
 },
 "nbformat": 4,
 "nbformat_minor": 5
}
