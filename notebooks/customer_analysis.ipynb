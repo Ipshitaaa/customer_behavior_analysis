{
 "cells": [
  {
   "cell_type": "code",
   "execution_count": null,
   "id": "5c0ff8e4",
   "metadata": {},
   "outputs": [],
   "source": [
    "import pandas as pd\n",
    "import numpy as np\n",
    "import matplotlib.pyplot as plt\n",
    "import seaborn as sns\n",
    "\n",
    "# Optional settings\n",
    "sns.set(style='whitegrid')\n",
    "pd.set_option('display.max_columns', None)\n"
   ]
  },
  {
   "cell_type": "code",
   "execution_count": null,
   "id": "de730ffe",
   "metadata": {},
   "outputs": [],
   "source": [
    "df = pd.read_excel(\"../data/online_retail.xlsx\")\n",
    "df.head()\n"
   ]
  },
  {
   "cell_type": "code",
   "execution_count": null,
   "id": "6c0b1fd3",
   "metadata": {},
   "outputs": [],
   "source": [
    "df.shape\n",
    "df.columns\n",
    "df.info()\n",
    "df.describe()\n"
   ]
  }
 ],
 "metadata": {
  "language_info": {
   "name": "python"
  }
 },
 "nbformat": 4,
 "nbformat_minor": 5
}
